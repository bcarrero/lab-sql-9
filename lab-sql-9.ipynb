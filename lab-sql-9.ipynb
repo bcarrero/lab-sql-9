{
 "cells": [
  {
   "cell_type": "markdown",
   "metadata": {},
   "source": [
    "### Instructions\n",
    "\n",
    "We will be trying to predict if a customer will be renting a film this month based on their previous activity and other details. We will first construct a table with:\n",
    "\n",
    "    Customer ID\n",
    "    City\n",
    "    Most rented film category\n",
    "    Total films rented\n",
    "    Total money spent\n",
    "    How many films rented last month\n"
   ]
  },
  {
   "cell_type": "code",
   "execution_count": 102,
   "metadata": {},
   "outputs": [],
   "source": [
    "import pymysql\n",
    "import sqlalchemy\n",
    "import passlib\n",
    "from sqlalchemy import create_engine\n",
    "import pandas as pd\n",
    "import getpass # To get the password without showing the input\n",
    "import matplotlib\n",
    "import matplotlib.pyplot as plt\n",
    "import seaborn as sns\n",
    "import numpy as np\n",
    "from sklearn.preprocessing import Normalizer\n",
    "from sklearn.preprocessing import StandardScaler\n",
    "from sklearn.model_selection import train_test_split\n",
    "from sklearn.linear_model import LogisticRegression\n",
    "from sklearn.metrics import accuracy_score\n",
    "from sklearn.metrics import confusion_matrix\n",
    "from sklearn.metrics import plot_confusion_matrix\n",
    "from sklearn.metrics import cohen_kappa_score\n",
    "\n",
    "from scipy.stats import skew\n",
    "from statsmodels.stats.outliers_influence import variance_inflation_factor  \n",
    "from scipy import stats\n",
    "from scipy.stats import kurtosis\n",
    "from statsmodels.graphics.gofplots import qqplot\n",
    "from matplotlib import pyplot\n",
    "from sklearn.metrics import mean_absolute_error,mean_squared_error, r2_score"
   ]
  },
  {
   "cell_type": "code",
   "execution_count": 103,
   "metadata": {},
   "outputs": [
    {
     "name": "stdout",
     "output_type": "stream",
     "text": [
      "········\n"
     ]
    }
   ],
   "source": [
    "## reading the data from the database\n",
    "password = getpass.getpass()"
   ]
  },
  {
   "cell_type": "code",
   "execution_count": 104,
   "metadata": {},
   "outputs": [],
   "source": [
    "connection_string = 'mysql+pymysql://root:' + password + '@localhost/sakila'\n",
    "engine = create_engine(connection_string)"
   ]
  },
  {
   "cell_type": "code",
   "execution_count": 105,
   "metadata": {},
   "outputs": [
    {
     "data": {
      "text/html": [
       "<div>\n",
       "<style scoped>\n",
       "    .dataframe tbody tr th:only-of-type {\n",
       "        vertical-align: middle;\n",
       "    }\n",
       "\n",
       "    .dataframe tbody tr th {\n",
       "        vertical-align: top;\n",
       "    }\n",
       "\n",
       "    .dataframe thead th {\n",
       "        text-align: right;\n",
       "    }\n",
       "</style>\n",
       "<table border=\"1\" class=\"dataframe\">\n",
       "  <thead>\n",
       "    <tr style=\"text-align: right;\">\n",
       "      <th></th>\n",
       "      <th>film_id</th>\n",
       "      <th>title</th>\n",
       "      <th>description</th>\n",
       "      <th>release_year</th>\n",
       "      <th>language_id</th>\n",
       "      <th>original_language_id</th>\n",
       "      <th>rental_duration</th>\n",
       "      <th>rental_rate</th>\n",
       "      <th>length</th>\n",
       "      <th>replacement_cost</th>\n",
       "      <th>rating</th>\n",
       "      <th>special_features</th>\n",
       "      <th>last_update</th>\n",
       "    </tr>\n",
       "  </thead>\n",
       "  <tbody>\n",
       "    <tr>\n",
       "      <td>0</td>\n",
       "      <td>1</td>\n",
       "      <td>ACADEMY DINOSAUR</td>\n",
       "      <td>A Epic Drama of a Feminist And a Mad Scientist...</td>\n",
       "      <td>2006</td>\n",
       "      <td>1</td>\n",
       "      <td>None</td>\n",
       "      <td>6</td>\n",
       "      <td>0.99</td>\n",
       "      <td>86</td>\n",
       "      <td>20.99</td>\n",
       "      <td>PG</td>\n",
       "      <td>Deleted Scenes,Behind the Scenes</td>\n",
       "      <td>2006-02-15 05:03:42</td>\n",
       "    </tr>\n",
       "    <tr>\n",
       "      <td>1</td>\n",
       "      <td>2</td>\n",
       "      <td>ACE GOLDFINGER</td>\n",
       "      <td>A Astounding Epistle of a Database Administrat...</td>\n",
       "      <td>2006</td>\n",
       "      <td>1</td>\n",
       "      <td>None</td>\n",
       "      <td>3</td>\n",
       "      <td>4.99</td>\n",
       "      <td>48</td>\n",
       "      <td>12.99</td>\n",
       "      <td>G</td>\n",
       "      <td>Trailers,Deleted Scenes</td>\n",
       "      <td>2006-02-15 05:03:42</td>\n",
       "    </tr>\n",
       "    <tr>\n",
       "      <td>2</td>\n",
       "      <td>3</td>\n",
       "      <td>ADAPTATION HOLES</td>\n",
       "      <td>A Astounding Reflection of a Lumberjack And a ...</td>\n",
       "      <td>2006</td>\n",
       "      <td>1</td>\n",
       "      <td>None</td>\n",
       "      <td>7</td>\n",
       "      <td>2.99</td>\n",
       "      <td>50</td>\n",
       "      <td>18.99</td>\n",
       "      <td>NC-17</td>\n",
       "      <td>Trailers,Deleted Scenes</td>\n",
       "      <td>2006-02-15 05:03:42</td>\n",
       "    </tr>\n",
       "    <tr>\n",
       "      <td>3</td>\n",
       "      <td>4</td>\n",
       "      <td>AFFAIR PREJUDICE</td>\n",
       "      <td>A Fanciful Documentary of a Frisbee And a Lumb...</td>\n",
       "      <td>2006</td>\n",
       "      <td>1</td>\n",
       "      <td>None</td>\n",
       "      <td>5</td>\n",
       "      <td>2.99</td>\n",
       "      <td>117</td>\n",
       "      <td>26.99</td>\n",
       "      <td>G</td>\n",
       "      <td>Commentaries,Behind the Scenes</td>\n",
       "      <td>2006-02-15 05:03:42</td>\n",
       "    </tr>\n",
       "    <tr>\n",
       "      <td>4</td>\n",
       "      <td>5</td>\n",
       "      <td>AFRICAN EGG</td>\n",
       "      <td>A Fast-Paced Documentary of a Pastry Chef And ...</td>\n",
       "      <td>2006</td>\n",
       "      <td>1</td>\n",
       "      <td>None</td>\n",
       "      <td>6</td>\n",
       "      <td>2.99</td>\n",
       "      <td>130</td>\n",
       "      <td>22.99</td>\n",
       "      <td>G</td>\n",
       "      <td>Deleted Scenes</td>\n",
       "      <td>2006-02-15 05:03:42</td>\n",
       "    </tr>\n",
       "  </tbody>\n",
       "</table>\n",
       "</div>"
      ],
      "text/plain": [
       "   film_id             title  \\\n",
       "0        1  ACADEMY DINOSAUR   \n",
       "1        2    ACE GOLDFINGER   \n",
       "2        3  ADAPTATION HOLES   \n",
       "3        4  AFFAIR PREJUDICE   \n",
       "4        5       AFRICAN EGG   \n",
       "\n",
       "                                         description  release_year  \\\n",
       "0  A Epic Drama of a Feminist And a Mad Scientist...          2006   \n",
       "1  A Astounding Epistle of a Database Administrat...          2006   \n",
       "2  A Astounding Reflection of a Lumberjack And a ...          2006   \n",
       "3  A Fanciful Documentary of a Frisbee And a Lumb...          2006   \n",
       "4  A Fast-Paced Documentary of a Pastry Chef And ...          2006   \n",
       "\n",
       "   language_id original_language_id  rental_duration  rental_rate  length  \\\n",
       "0            1                 None                6         0.99      86   \n",
       "1            1                 None                3         4.99      48   \n",
       "2            1                 None                7         2.99      50   \n",
       "3            1                 None                5         2.99     117   \n",
       "4            1                 None                6         2.99     130   \n",
       "\n",
       "   replacement_cost rating                  special_features  \\\n",
       "0             20.99     PG  Deleted Scenes,Behind the Scenes   \n",
       "1             12.99      G           Trailers,Deleted Scenes   \n",
       "2             18.99  NC-17           Trailers,Deleted Scenes   \n",
       "3             26.99      G    Commentaries,Behind the Scenes   \n",
       "4             22.99      G                    Deleted Scenes   \n",
       "\n",
       "          last_update  \n",
       "0 2006-02-15 05:03:42  \n",
       "1 2006-02-15 05:03:42  \n",
       "2 2006-02-15 05:03:42  \n",
       "3 2006-02-15 05:03:42  \n",
       "4 2006-02-15 05:03:42  "
      ]
     },
     "execution_count": 105,
     "metadata": {},
     "output_type": "execute_result"
    }
   ],
   "source": [
    "# test the connection\n",
    "data = pd.read_sql_query('SELECT * FROM sakila.film', engine)\n",
    "data.head()"
   ]
  },
  {
   "cell_type": "code",
   "execution_count": 106,
   "metadata": {},
   "outputs": [
    {
     "data": {
      "text/html": [
       "<div>\n",
       "<style scoped>\n",
       "    .dataframe tbody tr th:only-of-type {\n",
       "        vertical-align: middle;\n",
       "    }\n",
       "\n",
       "    .dataframe tbody tr th {\n",
       "        vertical-align: top;\n",
       "    }\n",
       "\n",
       "    .dataframe thead th {\n",
       "        text-align: right;\n",
       "    }\n",
       "</style>\n",
       "<table border=\"1\" class=\"dataframe\">\n",
       "  <thead>\n",
       "    <tr style=\"text-align: right;\">\n",
       "      <th></th>\n",
       "      <th>customer_id</th>\n",
       "      <th>first_name</th>\n",
       "      <th>last_name</th>\n",
       "      <th>address</th>\n",
       "      <th>city</th>\n",
       "      <th>movies_rented</th>\n",
       "      <th>money_spent</th>\n",
       "    </tr>\n",
       "  </thead>\n",
       "  <tbody>\n",
       "    <tr>\n",
       "      <td>0</td>\n",
       "      <td>1</td>\n",
       "      <td>MARY</td>\n",
       "      <td>SMITH</td>\n",
       "      <td>1913 Hanoi Way</td>\n",
       "      <td>Sasebo</td>\n",
       "      <td>32</td>\n",
       "      <td>118.68</td>\n",
       "    </tr>\n",
       "    <tr>\n",
       "      <td>1</td>\n",
       "      <td>2</td>\n",
       "      <td>PATRICIA</td>\n",
       "      <td>JOHNSON</td>\n",
       "      <td>1121 Loja Avenue</td>\n",
       "      <td>San Bernardino</td>\n",
       "      <td>27</td>\n",
       "      <td>128.73</td>\n",
       "    </tr>\n",
       "    <tr>\n",
       "      <td>2</td>\n",
       "      <td>3</td>\n",
       "      <td>LINDA</td>\n",
       "      <td>WILLIAMS</td>\n",
       "      <td>692 Joliet Street</td>\n",
       "      <td>Athenai</td>\n",
       "      <td>26</td>\n",
       "      <td>135.74</td>\n",
       "    </tr>\n",
       "    <tr>\n",
       "      <td>3</td>\n",
       "      <td>4</td>\n",
       "      <td>BARBARA</td>\n",
       "      <td>JONES</td>\n",
       "      <td>1566 Inegl Manor</td>\n",
       "      <td>Myingyan</td>\n",
       "      <td>22</td>\n",
       "      <td>81.78</td>\n",
       "    </tr>\n",
       "    <tr>\n",
       "      <td>4</td>\n",
       "      <td>5</td>\n",
       "      <td>ELIZABETH</td>\n",
       "      <td>BROWN</td>\n",
       "      <td>53 Idfu Parkway</td>\n",
       "      <td>Nantou</td>\n",
       "      <td>38</td>\n",
       "      <td>144.62</td>\n",
       "    </tr>\n",
       "  </tbody>\n",
       "</table>\n",
       "</div>"
      ],
      "text/plain": [
       "   customer_id first_name last_name            address            city  \\\n",
       "0            1       MARY     SMITH     1913 Hanoi Way          Sasebo   \n",
       "1            2   PATRICIA   JOHNSON   1121 Loja Avenue  San Bernardino   \n",
       "2            3      LINDA  WILLIAMS  692 Joliet Street         Athenai   \n",
       "3            4    BARBARA     JONES   1566 Inegl Manor        Myingyan   \n",
       "4            5  ELIZABETH     BROWN    53 Idfu Parkway          Nantou   \n",
       "\n",
       "   movies_rented  money_spent  \n",
       "0             32       118.68  \n",
       "1             27       128.73  \n",
       "2             26       135.74  \n",
       "3             22        81.78  \n",
       "4             38       144.62  "
      ]
     },
     "execution_count": 106,
     "metadata": {},
     "output_type": "execute_result"
    }
   ],
   "source": [
    "# \n",
    "#query = 'select r.customer_id, c.first_name, c.last_name, a.address, ci.city from customer as c \\\n",
    "#join rental as r ON r.customer_id = c.customer_id \\\n",
    "#join address as a ON a.address_id = c.address_id \\\n",
    "#join city as ci ON ci.city_id = a.city_id \\\n",
    "#group by r.customer_id \\\n",
    "#order by c.customer_id;'\n",
    "query = 'select r.customer_id, c.first_name, c.last_name, a.address, ci.city, count(r.rental_id) as \"movies_rented\", sum(p.amount) as \"money_spent\" from customer as c \\\n",
    "join rental as r ON r.customer_id = c.customer_id \\\n",
    "join address as a ON a.address_id = c.address_id \\\n",
    "join city as ci ON ci.city_id = a.city_id \\\n",
    "join payment as p on p.rental_id=r.rental_id \\\n",
    "group by r.customer_id \\\n",
    "order by c.customer_id;'\n",
    "\n",
    "customer_data = pd.read_sql_query(query, engine)\n",
    "customer_data.head()"
   ]
  },
  {
   "cell_type": "code",
   "execution_count": 107,
   "metadata": {},
   "outputs": [
    {
     "data": {
      "text/html": [
       "<div>\n",
       "<style scoped>\n",
       "    .dataframe tbody tr th:only-of-type {\n",
       "        vertical-align: middle;\n",
       "    }\n",
       "\n",
       "    .dataframe tbody tr th {\n",
       "        vertical-align: top;\n",
       "    }\n",
       "\n",
       "    .dataframe thead th {\n",
       "        text-align: right;\n",
       "    }\n",
       "</style>\n",
       "<table border=\"1\" class=\"dataframe\">\n",
       "  <thead>\n",
       "    <tr style=\"text-align: right;\">\n",
       "      <th></th>\n",
       "      <th>customer_id</th>\n",
       "      <th>first_name</th>\n",
       "      <th>last_name</th>\n",
       "      <th>address</th>\n",
       "      <th>city</th>\n",
       "      <th>rentals</th>\n",
       "      <th>amount_spent</th>\n",
       "      <th>category_name</th>\n",
       "      <th>movies_previous</th>\n",
       "      <th>movies_current</th>\n",
       "    </tr>\n",
       "  </thead>\n",
       "  <tbody>\n",
       "    <tr>\n",
       "      <td>0</td>\n",
       "      <td>1</td>\n",
       "      <td>MARY</td>\n",
       "      <td>SMITH</td>\n",
       "      <td>1913 Hanoi Way</td>\n",
       "      <td>Sasebo</td>\n",
       "      <td>32</td>\n",
       "      <td>118.68</td>\n",
       "      <td>Classics</td>\n",
       "      <td>2</td>\n",
       "      <td>7</td>\n",
       "    </tr>\n",
       "    <tr>\n",
       "      <td>1</td>\n",
       "      <td>2</td>\n",
       "      <td>PATRICIA</td>\n",
       "      <td>JOHNSON</td>\n",
       "      <td>1121 Loja Avenue</td>\n",
       "      <td>San Bernardino</td>\n",
       "      <td>27</td>\n",
       "      <td>128.73</td>\n",
       "      <td>Sports</td>\n",
       "      <td>1</td>\n",
       "      <td>1</td>\n",
       "    </tr>\n",
       "    <tr>\n",
       "      <td>2</td>\n",
       "      <td>3</td>\n",
       "      <td>LINDA</td>\n",
       "      <td>WILLIAMS</td>\n",
       "      <td>692 Joliet Street</td>\n",
       "      <td>Athenai</td>\n",
       "      <td>26</td>\n",
       "      <td>135.74</td>\n",
       "      <td>Action</td>\n",
       "      <td>2</td>\n",
       "      <td>4</td>\n",
       "    </tr>\n",
       "    <tr>\n",
       "      <td>3</td>\n",
       "      <td>5</td>\n",
       "      <td>ELIZABETH</td>\n",
       "      <td>BROWN</td>\n",
       "      <td>53 Idfu Parkway</td>\n",
       "      <td>Nantou</td>\n",
       "      <td>38</td>\n",
       "      <td>144.62</td>\n",
       "      <td>Classics</td>\n",
       "      <td>1</td>\n",
       "      <td>5</td>\n",
       "    </tr>\n",
       "    <tr>\n",
       "      <td>4</td>\n",
       "      <td>6</td>\n",
       "      <td>JENNIFER</td>\n",
       "      <td>DAVIS</td>\n",
       "      <td>1795 Santiago de Compostela Way</td>\n",
       "      <td>Laredo</td>\n",
       "      <td>28</td>\n",
       "      <td>93.72</td>\n",
       "      <td>Drama</td>\n",
       "      <td>3</td>\n",
       "      <td>4</td>\n",
       "    </tr>\n",
       "  </tbody>\n",
       "</table>\n",
       "</div>"
      ],
      "text/plain": [
       "   customer_id first_name last_name                          address  \\\n",
       "0            1       MARY     SMITH                   1913 Hanoi Way   \n",
       "1            2   PATRICIA   JOHNSON                 1121 Loja Avenue   \n",
       "2            3      LINDA  WILLIAMS                692 Joliet Street   \n",
       "3            5  ELIZABETH     BROWN                  53 Idfu Parkway   \n",
       "4            6   JENNIFER     DAVIS  1795 Santiago de Compostela Way   \n",
       "\n",
       "             city  rentals  amount_spent category_name  movies_previous  \\\n",
       "0          Sasebo       32        118.68      Classics                2   \n",
       "1  San Bernardino       27        128.73        Sports                1   \n",
       "2         Athenai       26        135.74        Action                2   \n",
       "3          Nantou       38        144.62      Classics                1   \n",
       "4          Laredo       28         93.72         Drama                3   \n",
       "\n",
       "   movies_current  \n",
       "0               7  \n",
       "1               1  \n",
       "2               4  \n",
       "3               5  \n",
       "4               4  "
      ]
     },
     "execution_count": 107,
     "metadata": {},
     "output_type": "execute_result"
    }
   ],
   "source": [
    "query = 'select c_d.customer_id, c_d.first_name, c_d.last_name,c_d.address,c_d.city, c_d.rentals, c_d. amount_spent,c_c.category_name, p_m.num_rental_train AS movies_previous, c_m.num_rental_test as movies_current from customer_data as c_d \\\n",
    "join cust_cat as c_c on c_c.customer_num = c_d.customer_id \\\n",
    "join previous_m as p_m on p_m.customer_id = c_d.customer_id \\\n",
    "join current_m as c_m on c_m.customer_id = c_d.customer_id' \n",
    "\n",
    "customer_data = pd.read_sql_query(query, engine)\n",
    "customer_data.head()"
   ]
  },
  {
   "cell_type": "code",
   "execution_count": 108,
   "metadata": {},
   "outputs": [
    {
     "data": {
      "text/html": [
       "<div>\n",
       "<style scoped>\n",
       "    .dataframe tbody tr th:only-of-type {\n",
       "        vertical-align: middle;\n",
       "    }\n",
       "\n",
       "    .dataframe tbody tr th {\n",
       "        vertical-align: top;\n",
       "    }\n",
       "\n",
       "    .dataframe thead th {\n",
       "        text-align: right;\n",
       "    }\n",
       "</style>\n",
       "<table border=\"1\" class=\"dataframe\">\n",
       "  <thead>\n",
       "    <tr style=\"text-align: right;\">\n",
       "      <th></th>\n",
       "      <th>customer_id</th>\n",
       "      <th>rentals</th>\n",
       "      <th>amount_spent</th>\n",
       "      <th>movies_previous</th>\n",
       "      <th>movies_current</th>\n",
       "    </tr>\n",
       "  </thead>\n",
       "  <tbody>\n",
       "    <tr>\n",
       "      <td>count</td>\n",
       "      <td>476.000000</td>\n",
       "      <td>476.000000</td>\n",
       "      <td>476.000000</td>\n",
       "      <td>476.000000</td>\n",
       "      <td>476.000000</td>\n",
       "    </tr>\n",
       "    <tr>\n",
       "      <td>mean</td>\n",
       "      <td>299.497899</td>\n",
       "      <td>27.262605</td>\n",
       "      <td>114.836618</td>\n",
       "      <td>2.060924</td>\n",
       "      <td>3.848739</td>\n",
       "    </tr>\n",
       "    <tr>\n",
       "      <td>std</td>\n",
       "      <td>172.939618</td>\n",
       "      <td>5.126233</td>\n",
       "      <td>25.258705</td>\n",
       "      <td>1.130657</td>\n",
       "      <td>1.843971</td>\n",
       "    </tr>\n",
       "    <tr>\n",
       "      <td>min</td>\n",
       "      <td>1.000000</td>\n",
       "      <td>12.000000</td>\n",
       "      <td>50.850000</td>\n",
       "      <td>1.000000</td>\n",
       "      <td>1.000000</td>\n",
       "    </tr>\n",
       "    <tr>\n",
       "      <td>25%</td>\n",
       "      <td>147.750000</td>\n",
       "      <td>24.000000</td>\n",
       "      <td>97.485000</td>\n",
       "      <td>1.000000</td>\n",
       "      <td>2.000000</td>\n",
       "    </tr>\n",
       "    <tr>\n",
       "      <td>50%</td>\n",
       "      <td>300.500000</td>\n",
       "      <td>27.000000</td>\n",
       "      <td>112.735000</td>\n",
       "      <td>2.000000</td>\n",
       "      <td>4.000000</td>\n",
       "    </tr>\n",
       "    <tr>\n",
       "      <td>75%</td>\n",
       "      <td>450.250000</td>\n",
       "      <td>31.000000</td>\n",
       "      <td>130.705000</td>\n",
       "      <td>3.000000</td>\n",
       "      <td>5.000000</td>\n",
       "    </tr>\n",
       "    <tr>\n",
       "      <td>max</td>\n",
       "      <td>597.000000</td>\n",
       "      <td>46.000000</td>\n",
       "      <td>221.550000</td>\n",
       "      <td>8.000000</td>\n",
       "      <td>10.000000</td>\n",
       "    </tr>\n",
       "  </tbody>\n",
       "</table>\n",
       "</div>"
      ],
      "text/plain": [
       "       customer_id     rentals  amount_spent  movies_previous  movies_current\n",
       "count   476.000000  476.000000    476.000000       476.000000      476.000000\n",
       "mean    299.497899   27.262605    114.836618         2.060924        3.848739\n",
       "std     172.939618    5.126233     25.258705         1.130657        1.843971\n",
       "min       1.000000   12.000000     50.850000         1.000000        1.000000\n",
       "25%     147.750000   24.000000     97.485000         1.000000        2.000000\n",
       "50%     300.500000   27.000000    112.735000         2.000000        4.000000\n",
       "75%     450.250000   31.000000    130.705000         3.000000        5.000000\n",
       "max     597.000000   46.000000    221.550000         8.000000       10.000000"
      ]
     },
     "metadata": {},
     "output_type": "display_data"
    },
    {
     "data": {
      "text/plain": [
       "Index(['customer_id', 'first_name', 'last_name', 'address', 'city', 'rentals',\n",
       "       'amount_spent', 'category_name', 'movies_previous', 'movies_current'],\n",
       "      dtype='object')"
      ]
     },
     "metadata": {},
     "output_type": "display_data"
    },
    {
     "data": {
      "text/plain": [
       "customer_id          int64\n",
       "first_name          object\n",
       "last_name           object\n",
       "address             object\n",
       "city                object\n",
       "rentals              int64\n",
       "amount_spent       float64\n",
       "category_name       object\n",
       "movies_previous      int64\n",
       "movies_current       int64\n",
       "dtype: object"
      ]
     },
     "execution_count": 108,
     "metadata": {},
     "output_type": "execute_result"
    }
   ],
   "source": [
    "display(customer_data.describe())\n",
    "display(customer_data.columns)\n",
    "customer_data.dtypes"
   ]
  },
  {
   "cell_type": "markdown",
   "metadata": {},
   "source": [
    "#### Customer  id is not really numerical, as it describes the person and was generated at random, it is also not really categorical, as every entry will be different (not repeating)\n",
    "#### Moreover,  I don't think that customer_id, the name, or the address are going to be relevant for our prediction.\n",
    "#### More interesting is the past behavior, which is based on:\n",
    "- rentals\n",
    "- amount_spent\n",
    "- movies previous month\n",
    "\n",
    "movies_current month will be used for checking the results as the dependent variable."
   ]
  },
  {
   "cell_type": "code",
   "execution_count": 109,
   "metadata": {},
   "outputs": [],
   "source": [
    "# Let's drop the columns we don't need for now: first and last name, address\n",
    "#let's make a copy of the dataframe before we start changing it:\n",
    "cust_data = customer_data.copy()\n"
   ]
  },
  {
   "cell_type": "code",
   "execution_count": 110,
   "metadata": {},
   "outputs": [
    {
     "data": {
      "text/plain": [
       "Sci-Fi         57\n",
       "Sports         48\n",
       "Animation      46\n",
       "Action         44\n",
       "Foreign        35\n",
       "Documentary    33\n",
       "Family         31\n",
       "Horror         26\n",
       "Games          26\n",
       "New            24\n",
       "Drama          21\n",
       "Music          20\n",
       "Comedy         19\n",
       "Classics       19\n",
       "Children       14\n",
       "Travel         13\n",
       "Name: category_name, dtype: int64"
      ]
     },
     "metadata": {},
     "output_type": "display_data"
    },
    {
     "name": "stdout",
     "output_type": "stream",
     "text": [
      "\n"
     ]
    },
    {
     "data": {
      "text/plain": [
       "Aurora        2\n",
       "Monywa        1\n",
       "Salzburg      1\n",
       "Uluberia      1\n",
       "Atlixco       1\n",
       "             ..\n",
       "Dzerzinsk     1\n",
       "Avellaneda    1\n",
       "Baicheng      1\n",
       "Oyo           1\n",
       "Mysore        1\n",
       "Name: city, Length: 475, dtype: int64"
      ]
     },
     "metadata": {},
     "output_type": "display_data"
    },
    {
     "name": "stdout",
     "output_type": "stream",
     "text": [
      "\n"
     ]
    },
    {
     "data": {
      "image/png": "[encoded data removed]",
      "text/plain": [
       "<Figure size 432x288 with 1 Axes>"
      ]
     },
     "metadata": {
      "needs_background": "light"
     },
     "output_type": "display_data"
    },
    {
     "data": {
      "image/png": "[encoded data removed]",
      "text/plain": [
       "<Figure size 432x288 with 1 Axes>"
      ]
     },
     "metadata": {
      "needs_background": "light"
     },
     "output_type": "display_data"
    },
    {
     "data": {
      "text/plain": [
       "<Figure size 432x288 with 0 Axes>"
      ]
     },
     "metadata": {},
     "output_type": "display_data"
    }
   ],
   "source": [
    "    display(cust_data['category_name'].value_counts())\n",
    "    my_data = cust_data['category_name'].value_counts().reset_index()\n",
    "    ax = sns.barplot(x='category_name', y=\"index\", data = my_data).set_title('category_name'.upper())\n",
    "    plt.figure()\n",
    "    print()   \n",
    "    \n",
    "    display(cust_data['city'].value_counts())\n",
    "    my_data = cust_data['city'].value_counts().reset_index()\n",
    "    ax = sns.barplot(x='city', y=\"index\", data = my_data).set_title('city'.upper())\n",
    "    plt.figure()\n",
    "    print() "
   ]
  },
  {
   "cell_type": "code",
   "execution_count": 111,
   "metadata": {},
   "outputs": [
    {
     "data": {
      "text/html": [
       "<div>\n",
       "<style scoped>\n",
       "    .dataframe tbody tr th:only-of-type {\n",
       "        vertical-align: middle;\n",
       "    }\n",
       "\n",
       "    .dataframe tbody tr th {\n",
       "        vertical-align: top;\n",
       "    }\n",
       "\n",
       "    .dataframe thead th {\n",
       "        text-align: right;\n",
       "    }\n",
       "</style>\n",
       "<table border=\"1\" class=\"dataframe\">\n",
       "  <thead>\n",
       "    <tr style=\"text-align: right;\">\n",
       "      <th></th>\n",
       "      <th>rentals</th>\n",
       "      <th>amount_spent</th>\n",
       "      <th>category_name</th>\n",
       "      <th>movies_previous</th>\n",
       "      <th>movies_current</th>\n",
       "    </tr>\n",
       "  </thead>\n",
       "  <tbody>\n",
       "    <tr>\n",
       "      <td>0</td>\n",
       "      <td>32</td>\n",
       "      <td>118.68</td>\n",
       "      <td>Classics</td>\n",
       "      <td>2</td>\n",
       "      <td>7</td>\n",
       "    </tr>\n",
       "    <tr>\n",
       "      <td>1</td>\n",
       "      <td>27</td>\n",
       "      <td>128.73</td>\n",
       "      <td>Sports</td>\n",
       "      <td>1</td>\n",
       "      <td>1</td>\n",
       "    </tr>\n",
       "    <tr>\n",
       "      <td>2</td>\n",
       "      <td>26</td>\n",
       "      <td>135.74</td>\n",
       "      <td>Action</td>\n",
       "      <td>2</td>\n",
       "      <td>4</td>\n",
       "    </tr>\n",
       "    <tr>\n",
       "      <td>3</td>\n",
       "      <td>38</td>\n",
       "      <td>144.62</td>\n",
       "      <td>Classics</td>\n",
       "      <td>1</td>\n",
       "      <td>5</td>\n",
       "    </tr>\n",
       "    <tr>\n",
       "      <td>4</td>\n",
       "      <td>28</td>\n",
       "      <td>93.72</td>\n",
       "      <td>Drama</td>\n",
       "      <td>3</td>\n",
       "      <td>4</td>\n",
       "    </tr>\n",
       "  </tbody>\n",
       "</table>\n",
       "</div>"
      ],
      "text/plain": [
       "   rentals  amount_spent category_name  movies_previous  movies_current\n",
       "0       32        118.68      Classics                2               7\n",
       "1       27        128.73        Sports                1               1\n",
       "2       26        135.74        Action                2               4\n",
       "3       38        144.62      Classics                1               5\n",
       "4       28         93.72         Drama                3               4"
      ]
     },
     "execution_count": 111,
     "metadata": {},
     "output_type": "execute_result"
    }
   ],
   "source": [
    "# We also see that the cities are not repeating except for two customers who live in Aurora... we decide to drop city as well.\n",
    "\n",
    "cust_data = cust_data.drop(['customer_id', 'first_name', 'last_name', 'address', 'city'], axis = 1)\n",
    "cust_data.head()\n"
   ]
  },
  {
   "cell_type": "code",
   "execution_count": 112,
   "metadata": {},
   "outputs": [
    {
     "data": {
      "text/html": [
       "<div>\n",
       "<style scoped>\n",
       "    .dataframe tbody tr th:only-of-type {\n",
       "        vertical-align: middle;\n",
       "    }\n",
       "\n",
       "    .dataframe tbody tr th {\n",
       "        vertical-align: top;\n",
       "    }\n",
       "\n",
       "    .dataframe thead th {\n",
       "        text-align: right;\n",
       "    }\n",
       "</style>\n",
       "<table border=\"1\" class=\"dataframe\">\n",
       "  <thead>\n",
       "    <tr style=\"text-align: right;\">\n",
       "      <th></th>\n",
       "      <th>category_name</th>\n",
       "    </tr>\n",
       "  </thead>\n",
       "  <tbody>\n",
       "    <tr>\n",
       "      <td>0</td>\n",
       "      <td>Classics</td>\n",
       "    </tr>\n",
       "    <tr>\n",
       "      <td>1</td>\n",
       "      <td>Sports</td>\n",
       "    </tr>\n",
       "    <tr>\n",
       "      <td>2</td>\n",
       "      <td>Action</td>\n",
       "    </tr>\n",
       "    <tr>\n",
       "      <td>3</td>\n",
       "      <td>Classics</td>\n",
       "    </tr>\n",
       "    <tr>\n",
       "      <td>4</td>\n",
       "      <td>Drama</td>\n",
       "    </tr>\n",
       "    <tr>\n",
       "      <td>...</td>\n",
       "      <td>...</td>\n",
       "    </tr>\n",
       "    <tr>\n",
       "      <td>471</td>\n",
       "      <td>Horror</td>\n",
       "    </tr>\n",
       "    <tr>\n",
       "      <td>472</td>\n",
       "      <td>Sports</td>\n",
       "    </tr>\n",
       "    <tr>\n",
       "      <td>473</td>\n",
       "      <td>Documentary</td>\n",
       "    </tr>\n",
       "    <tr>\n",
       "      <td>474</td>\n",
       "      <td>Sports</td>\n",
       "    </tr>\n",
       "    <tr>\n",
       "      <td>475</td>\n",
       "      <td>Foreign</td>\n",
       "    </tr>\n",
       "  </tbody>\n",
       "</table>\n",
       "<p>476 rows × 1 columns</p>\n",
       "</div>"
      ],
      "text/plain": [
       "    category_name\n",
       "0        Classics\n",
       "1          Sports\n",
       "2          Action\n",
       "3        Classics\n",
       "4           Drama\n",
       "..            ...\n",
       "471        Horror\n",
       "472        Sports\n",
       "473   Documentary\n",
       "474        Sports\n",
       "475       Foreign\n",
       "\n",
       "[476 rows x 1 columns]"
      ]
     },
     "metadata": {},
     "output_type": "display_data"
    }
   ],
   "source": [
    "# So we see there are no empty fields in category_name, everything seems to be ok with our categorical column.\n",
    "# lets convert it to numerical through OneHot encoding.\n",
    "cat = pd.DataFrame(cust_data['category_name'])\n",
    "display(cat)\n",
    "cust_data = cust_data.drop(['category_name'],axis=1)\n",
    "\n",
    "# we separate as well our dependent variable data from the rest\n",
    "Y = pd.DataFrame(cust_data['movies_current'])\n",
    "cust_data = cust_data.drop(['movies_current'],axis=1)"
   ]
  },
  {
   "cell_type": "code",
   "execution_count": 113,
   "metadata": {},
   "outputs": [
    {
     "data": {
      "text/html": [
       "<div>\n",
       "<style scoped>\n",
       "    .dataframe tbody tr th:only-of-type {\n",
       "        vertical-align: middle;\n",
       "    }\n",
       "\n",
       "    .dataframe tbody tr th {\n",
       "        vertical-align: top;\n",
       "    }\n",
       "\n",
       "    .dataframe thead th {\n",
       "        text-align: right;\n",
       "    }\n",
       "</style>\n",
       "<table border=\"1\" class=\"dataframe\">\n",
       "  <thead>\n",
       "    <tr style=\"text-align: right;\">\n",
       "      <th></th>\n",
       "      <th>category_name_Animation</th>\n",
       "      <th>category_name_Children</th>\n",
       "      <th>category_name_Classics</th>\n",
       "      <th>category_name_Comedy</th>\n",
       "      <th>category_name_Documentary</th>\n",
       "      <th>category_name_Drama</th>\n",
       "      <th>category_name_Family</th>\n",
       "      <th>category_name_Foreign</th>\n",
       "      <th>category_name_Games</th>\n",
       "      <th>category_name_Horror</th>\n",
       "      <th>category_name_Music</th>\n",
       "      <th>category_name_New</th>\n",
       "      <th>category_name_Sci-Fi</th>\n",
       "      <th>category_name_Sports</th>\n",
       "      <th>category_name_Travel</th>\n",
       "    </tr>\n",
       "  </thead>\n",
       "  <tbody>\n",
       "    <tr>\n",
       "      <td>0</td>\n",
       "      <td>0</td>\n",
       "      <td>0</td>\n",
       "      <td>1</td>\n",
       "      <td>0</td>\n",
       "      <td>0</td>\n",
       "      <td>0</td>\n",
       "      <td>0</td>\n",
       "      <td>0</td>\n",
       "      <td>0</td>\n",
       "      <td>0</td>\n",
       "      <td>0</td>\n",
       "      <td>0</td>\n",
       "      <td>0</td>\n",
       "      <td>0</td>\n",
       "      <td>0</td>\n",
       "    </tr>\n",
       "    <tr>\n",
       "      <td>1</td>\n",
       "      <td>0</td>\n",
       "      <td>0</td>\n",
       "      <td>0</td>\n",
       "      <td>0</td>\n",
       "      <td>0</td>\n",
       "      <td>0</td>\n",
       "      <td>0</td>\n",
       "      <td>0</td>\n",
       "      <td>0</td>\n",
       "      <td>0</td>\n",
       "      <td>0</td>\n",
       "      <td>0</td>\n",
       "      <td>0</td>\n",
       "      <td>1</td>\n",
       "      <td>0</td>\n",
       "    </tr>\n",
       "    <tr>\n",
       "      <td>2</td>\n",
       "      <td>0</td>\n",
       "      <td>0</td>\n",
       "      <td>0</td>\n",
       "      <td>0</td>\n",
       "      <td>0</td>\n",
       "      <td>0</td>\n",
       "      <td>0</td>\n",
       "      <td>0</td>\n",
       "      <td>0</td>\n",
       "      <td>0</td>\n",
       "      <td>0</td>\n",
       "      <td>0</td>\n",
       "      <td>0</td>\n",
       "      <td>0</td>\n",
       "      <td>0</td>\n",
       "    </tr>\n",
       "    <tr>\n",
       "      <td>3</td>\n",
       "      <td>0</td>\n",
       "      <td>0</td>\n",
       "      <td>1</td>\n",
       "      <td>0</td>\n",
       "      <td>0</td>\n",
       "      <td>0</td>\n",
       "      <td>0</td>\n",
       "      <td>0</td>\n",
       "      <td>0</td>\n",
       "      <td>0</td>\n",
       "      <td>0</td>\n",
       "      <td>0</td>\n",
       "      <td>0</td>\n",
       "      <td>0</td>\n",
       "      <td>0</td>\n",
       "    </tr>\n",
       "    <tr>\n",
       "      <td>4</td>\n",
       "      <td>0</td>\n",
       "      <td>0</td>\n",
       "      <td>0</td>\n",
       "      <td>0</td>\n",
       "      <td>0</td>\n",
       "      <td>1</td>\n",
       "      <td>0</td>\n",
       "      <td>0</td>\n",
       "      <td>0</td>\n",
       "      <td>0</td>\n",
       "      <td>0</td>\n",
       "      <td>0</td>\n",
       "      <td>0</td>\n",
       "      <td>0</td>\n",
       "      <td>0</td>\n",
       "    </tr>\n",
       "  </tbody>\n",
       "</table>\n",
       "</div>"
      ],
      "text/plain": [
       "   category_name_Animation  category_name_Children  category_name_Classics  \\\n",
       "0                        0                       0                       1   \n",
       "1                        0                       0                       0   \n",
       "2                        0                       0                       0   \n",
       "3                        0                       0                       1   \n",
       "4                        0                       0                       0   \n",
       "\n",
       "   category_name_Comedy  category_name_Documentary  category_name_Drama  \\\n",
       "0                     0                          0                    0   \n",
       "1                     0                          0                    0   \n",
       "2                     0                          0                    0   \n",
       "3                     0                          0                    0   \n",
       "4                     0                          0                    1   \n",
       "\n",
       "   category_name_Family  category_name_Foreign  category_name_Games  \\\n",
       "0                     0                      0                    0   \n",
       "1                     0                      0                    0   \n",
       "2                     0                      0                    0   \n",
       "3                     0                      0                    0   \n",
       "4                     0                      0                    0   \n",
       "\n",
       "   category_name_Horror  category_name_Music  category_name_New  \\\n",
       "0                     0                    0                  0   \n",
       "1                     0                    0                  0   \n",
       "2                     0                    0                  0   \n",
       "3                     0                    0                  0   \n",
       "4                     0                    0                  0   \n",
       "\n",
       "   category_name_Sci-Fi  category_name_Sports  category_name_Travel  \n",
       "0                     0                     0                     0  \n",
       "1                     0                     1                     0  \n",
       "2                     0                     0                     0  \n",
       "3                     0                     0                     0  \n",
       "4                     0                     0                     0  "
      ]
     },
     "execution_count": 113,
     "metadata": {},
     "output_type": "execute_result"
    }
   ],
   "source": [
    "# OneHot encodding - pd.getdummies\n",
    "categorical = pd.get_dummies(cat, columns=['category_name'],drop_first=True)\n",
    "categorical.head()\n",
    "# with this, categorical is ready to be concatenated. Let's analyze the numerical values"
   ]
  },
  {
   "cell_type": "code",
   "execution_count": 114,
   "metadata": {},
   "outputs": [
    {
     "data": {
      "image/png": "[encoded data removed]",
      "text/plain": [
       "<Figure size 720x576 with 2 Axes>"
      ]
     },
     "metadata": {
      "needs_background": "light"
     },
     "output_type": "display_data"
    }
   ],
   "source": [
    "corr_matrix=cust_data.corr(method='pearson')  # default\n",
    "fig, ax = plt.subplots(figsize=(10, 8))\n",
    "ax = sns.heatmap(corr_matrix, annot=True)\n",
    "plt.show()"
   ]
  },
  {
   "cell_type": "code",
   "execution_count": 115,
   "metadata": {},
   "outputs": [
    {
     "data": {
      "text/plain": [
       "Index(['rentals', 'amount_spent', 'movies_previous'], dtype='object')"
      ]
     },
     "execution_count": 115,
     "metadata": {},
     "output_type": "execute_result"
    }
   ],
   "source": [
    "cust_data.columns"
   ]
  },
  {
   "cell_type": "code",
   "execution_count": 116,
   "metadata": {},
   "outputs": [
    {
     "data": {
      "image/png": "[encoded data removed]",
      "text/plain": [
       "<Figure size 432x288 with 1 Axes>"
      ]
     },
     "metadata": {
      "needs_background": "light"
     },
     "output_type": "display_data"
    },
    {
     "data": {
      "image/png": "[encoded data removed]",
      "text/plain": [
       "<Figure size 432x288 with 1 Axes>"
      ]
     },
     "metadata": {
      "needs_background": "light"
     },
     "output_type": "display_data"
    },
    {
     "data": {
      "image/png": "[encoded data removed]",
      "text/plain": [
       "<Figure size 432x288 with 1 Axes>"
      ]
     },
     "metadata": {
      "needs_background": "light"
     },
     "output_type": "display_data"
    }
   ],
   "source": [
    "# we see that there is more or less no correlation between movies currentand movies previous \n",
    "# but there is correlation between movies current and amount_spent and number of rentals \n",
    "\n",
    "# let's check how does the distribution for each variable look like.\n",
    "\n",
    "\n",
    "sns.distplot(cust_data['movies_previous'])\n",
    "plt.show()\n",
    "sns.distplot(cust_data['amount_spent'])\n",
    "plt.show()\n",
    "sns.distplot(cust_data['rentals'])\n",
    "plt.show()"
   ]
  },
  {
   "cell_type": "code",
   "execution_count": 117,
   "metadata": {},
   "outputs": [
    {
     "data": {
      "text/plain": [
       "rentals            0.244194\n",
       "amount_spent       0.558975\n",
       "movies_previous    1.332515\n",
       "dtype: float64"
      ]
     },
     "metadata": {},
     "output_type": "display_data"
    },
    {
     "name": "stdout",
     "output_type": "stream",
     "text": [
      "Q-Q plot for variable:  rentals\n"
     ]
    },
    {
     "data": {
      "image/png": "[encoded data removed]",
      "text/plain": [
       "<Figure size 432x288 with 1 Axes>"
      ]
     },
     "metadata": {
      "needs_background": "light"
     },
     "output_type": "display_data"
    },
    {
     "name": "stdout",
     "output_type": "stream",
     "text": [
      "Q-Q plot for variable:  amount_spent\n"
     ]
    },
    {
     "data": {
      "image/png": "[encoded data removed]",
      "text/plain": [
       "<Figure size 432x288 with 1 Axes>"
      ]
     },
     "metadata": {
      "needs_background": "light"
     },
     "output_type": "display_data"
    },
    {
     "name": "stdout",
     "output_type": "stream",
     "text": [
      "Q-Q plot for variable:  movies_previous\n"
     ]
    },
    {
     "data": {
      "image/png": "[encoded data removed]",
      "text/plain": [
       "<Figure size 432x288 with 1 Axes>"
      ]
     },
     "metadata": {
      "needs_background": "light"
     },
     "output_type": "display_data"
    },
    {
     "data": {
      "text/plain": [
       "array([0.31377793, 0.87080824, 2.3143577 ])"
      ]
     },
     "execution_count": 117,
     "metadata": {},
     "output_type": "execute_result"
    }
   ],
   "source": [
    "# Let'S do some normality checks:\n",
    "\n",
    "# Normality tests\n",
    "# Checking for skewness and spikeness of numerical data\n",
    "display(cust_data.apply(skew))\n",
    "# Q-Q Plot\n",
    "cols = list(cust_data.columns)\n",
    "for col in cols:\n",
    "    print(\"Q-Q plot for variable: \",col)\n",
    "    qqplot(cust_data[col], line='s')\n",
    "    pyplot.show()\n",
    "    \n",
    "#Kurtosis\n",
    "kurtosis(cust_data)"
   ]
  },
  {
   "cell_type": "markdown",
   "metadata": {},
   "source": [
    "Based on these results, we see that while amoun_spent and rentals close to normally distributed, \n",
    "We don't observe the same behavior for movies_previous\n",
    "They all seem to be within the acceptable range though... let's see what the model \n",
    "would predict without applying any transformation"
   ]
  },
  {
   "cell_type": "markdown",
   "metadata": {},
   "source": [
    "## We need to rescale, otherwise the results are not converging and we get errors.\n",
    "\n"
   ]
  },
  {
   "cell_type": "code",
   "execution_count": 118,
   "metadata": {},
   "outputs": [],
   "source": [
    "# We will try the Standarizer\n",
    "# scaling data\n",
    "transformer = StandardScaler().fit(cust_data)\n",
    "x_standarized = transformer.transform(cust_data)\n",
    "x_standarized = pd.DataFrame(x_standarized)"
   ]
  },
  {
   "cell_type": "code",
   "execution_count": 119,
   "metadata": {},
   "outputs": [],
   "source": [
    "X = np.concatenate((x_standarized, categorical), axis=1)"
   ]
  },
  {
   "cell_type": "code",
   "execution_count": 124,
   "metadata": {},
   "outputs": [],
   "source": [
    "X_train, X_test, Y_train, Y_test = train_test_split(X, Y, test_size=0.3, random_state=100)"
   ]
  },
  {
   "cell_type": "code",
   "execution_count": 128,
   "metadata": {},
   "outputs": [
    {
     "name": "stderr",
     "output_type": "stream",
     "text": [
      "C:\\Users\\Borja\\AppData\\Roaming\\Python\\Python37\\site-packages\\sklearn\\utils\\validation.py:72: DataConversionWarning: A column-vector y was passed when a 1d array was expected. Please change the shape of y to (n_samples, ), for example using ravel().\n",
      "  return f(**kwargs)\n"
     ]
    },
    {
     "data": {
      "text/plain": [
       "array([2, 1, 4, 2, 4, 4, 6, 4, 4, 3, 4, 4, 2, 4, 4, 3, 4, 4, 3, 3, 2, 2,\n",
       "       2, 4, 4, 4, 4, 5, 4, 4, 4, 4, 4, 2, 6, 4, 4, 4, 3, 4, 4, 3, 4, 4,\n",
       "       4, 4, 6, 4, 4, 3, 4, 8, 1, 6, 4, 4, 5, 4, 4, 4, 4, 2, 4, 4, 4, 4,\n",
       "       4, 4, 4, 4, 4, 4, 3, 6, 4, 2, 4, 4, 4, 2, 4, 4, 3, 3, 2, 5, 4, 5,\n",
       "       4, 6, 3, 4, 2, 4, 4, 4, 4, 4, 2, 4, 3, 2, 4, 5, 4, 4, 4, 4, 2, 4,\n",
       "       4, 4, 4, 4, 4, 4, 3, 4, 4, 4, 4, 4, 4, 4, 4, 3, 4, 4, 4, 4, 2, 4,\n",
       "       5, 6, 4, 4, 5, 4, 2, 4, 4, 1, 2], dtype=int64)"
      ]
     },
     "metadata": {},
     "output_type": "display_data"
    }
   ],
   "source": [
    "classification = LogisticRegression(random_state=0, solver='lbfgs',\n",
    "                  multi_class='ovr').fit(X_train, Y_train)\n",
    "predictions = classification.predict(X_test)\n",
    "\n",
    "display(predictions)"
   ]
  },
  {
   "cell_type": "code",
   "execution_count": 129,
   "metadata": {},
   "outputs": [
    {
     "name": "stdout",
     "output_type": "stream",
     "text": [
      "MAE of the linear model on test set: 1.490\n",
      "MSE of the linear model on test set: 3.336\n",
      "RMSE of the linear model on test set: 1.826\n",
      "R2 of the linear model on test set: 0.077\n"
     ]
    }
   ],
   "source": [
    "MAE = mean_absolute_error(Y_test, predictions)\n",
    "MSE = mean_squared_error(Y_test, predictions)\n",
    "RMSE = np.sqrt(MSE)\n",
    "R2 = r2_score(Y_test, predictions)\n",
    "\n",
    "print(\"MAE of the linear model on test set: %5.3f\"%(MAE))\n",
    "print(\"MSE of the linear model on test set: %5.3f\"%(MSE))\n",
    "print(\"RMSE of the linear model on test set: %5.3f\"%(RMSE))\n",
    "print(\"R2 of the linear model on test set: %5.3f\"%(R2))"
   ]
  }
 ],
 "metadata": {
  "kernelspec": {
   "display_name": "Python 3",
   "language": "python",
   "name": "python3"
  },
  "language_info": {
   "codemirror_mode": {
    "name": "ipython",
    "version": 3
   },
   "file_extension": ".py",
   "mimetype": "text/x-python",
   "name": "python",
   "nbconvert_exporter": "python",
   "pygments_lexer": "ipython3",
   "version": "3.7.4"
  }
 },
 "nbformat": 4,
 "nbformat_minor": 2
}
